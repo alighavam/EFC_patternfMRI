{
 "cells": [
  {
   "cell_type": "code",
   "execution_count": null,
   "metadata": {},
   "outputs": [],
   "source": [
    "import numpy as np\n",
    "import PcmPy as pcm\n",
    "import pandas as pd\n",
    "import matplotlib.pyplot as plt\n",
    "import seaborn as sns\n",
    "import scipy.io\n",
    "import os\n",
    "from scipy import stats\n",
    "\n",
    "# Load the data\n",
    "mat = scipy.io.loadmat(os.path.join('analysis','hd1_glm_betas.mat'))\n",
    "glm_betas = mat\n",
    "# glm_betas = glm_betas[0,0]\n",
    "# glm_betas['beta'].shape\n",
    "# checking the imported structure fields:\n",
    "# print(glm_betas.dtype.names)\n",
    "\n",
    "# hem         = {'lh','rh'};\n",
    "# hemName     = {'LeftHem','RightHem'};\n",
    "# regname     = {'S1','M1','PMd','PMv','SMA','V12','SPLa','SPLp'};\n",
    "\n",
    "glm_info = pd.read_csv(os.path.join('analysis','hd1_glm_info.tsv'), sep='\\t')"
   ]
  },
  {
   "cell_type": "code",
   "execution_count": 12,
   "metadata": {},
   "outputs": [
    {
     "data": {
      "text/plain": [
       "array([1, 1, 1, 1, 1, 2, 2, 2, 2, 2, 3, 3, 3, 3, 3, 4, 4, 4, 4, 4, 5, 5,\n",
       "       5, 5, 5, 6, 6, 6, 6, 6, 7, 7, 7, 7, 7, 8, 8, 8, 8, 8])"
      ]
     },
     "execution_count": 12,
     "metadata": {},
     "output_type": "execute_result"
    }
   ],
   "source": [
    "glm_info[glm_info['hand']==2]['run'].values.flatten()"
   ]
  },
  {
   "cell_type": "markdown",
   "metadata": {},
   "source": [
    "## Estimating reliability of the data"
   ]
  },
  {
   "cell_type": "code",
   "execution_count": 18,
   "metadata": {},
   "outputs": [
    {
     "data": {
      "image/png": "[encoded data removed]",
      "text/plain": [
       "<Figure size 1377.95x236.22 with 1 Axes>"
      ]
     },
     "metadata": {},
     "output_type": "display_data"
    }
   ],
   "source": [
    "from utils import dataset as ds\n",
    "import importlib\n",
    "importlib.reload(ds)\n",
    "\n",
    "region_names = ['lh_S1','lh_M1','lh_PMd','lh_PMv','lh_SMA','lh_V12','lh_ALP','lh_OPJ',\n",
    "                'rh_S1','rh_M1','rh_PMd','rh_PMv','rh_SMA','rh_V12','rh_ALP','rh_OPJ']\n",
    "region = [1,2,3,4,5,6,7,8,9,10,11,12,13,14,15,16]\n",
    "\n",
    "hand = [1,2]\n",
    "snr = []\n",
    "# the variability in the contralateral region:\n",
    "for h in hand:\n",
    "    if h == 1:\n",
    "        tmp_region = region[:8]\n",
    "    elif h == 2:\n",
    "        tmp_region = region[8:]\n",
    "    for reg in tmp_region:\n",
    "        reg_idx = (glm_betas['region']==reg).flatten()\n",
    "        beta = glm_betas['beta'][reg_idx] / np.sqrt(glm_betas['ResMs'][reg_idx])\n",
    "        beta = beta.T\n",
    "        subj_vec = glm_betas['sn'][reg_idx].flatten()\n",
    "        \n",
    "        partition_vec = glm_info[glm_info['hand']==h]['run'].values.flatten()\n",
    "        cond_vec = glm_info[glm_info['hand']==h]['digit'].values.flatten()\n",
    "        \n",
    "        v_s, v_se = ds.within_subj_var(data = beta, partition_vec=partition_vec, cond_vec=cond_vec, subj_vec=subj_vec, subtract_mean=True)\n",
    "        snr.extend(v_s / v_se)\n",
    "\n",
    "region_indicator = np.repeat(np.array(region),np.unique(subj_vec).shape[0])\n",
    "snr = np.array(snr)\n",
    "\n",
    "cm = 1/2.54  # centimeters in inches\n",
    "fig, ax = plt.subplots(figsize=(35*cm, 6*cm))\n",
    "\n",
    "# Define custom properties for the box plot\n",
    "boxprops = dict(edgecolor='#000000', linewidth=1)\n",
    "whiskerprops = dict(color='#000000', linewidth=1)\n",
    "capprops = dict(visible=False)  # Remove the caps\n",
    "medianprops = dict(color='#000000', linewidth=1)\n",
    "\n",
    "sns.boxplot(x=region_indicator, y=snr, dodge=True, width=0.2, color='#ffffff',\n",
    "            boxprops=boxprops, whiskerprops=whiskerprops, capprops=capprops, medianprops=medianprops)\n",
    "\n",
    "ax.set_xlim([-1, 16])\n",
    "ax.set_xticks(np.arange(0,16))\n",
    "ax.set_xticklabels(region_names)\n",
    "ax.set_ylabel('V_s / V_se')\n",
    "\n",
    "# Make it pretty:\n",
    "ax.spines['top'].set_visible(False)\n",
    "ax.spines['right'].set_visible(False)\n",
    "ax.spines['left'].set_linewidth(1)\n",
    "ax.spines['bottom'].set_linewidth(1)\n",
    "\n",
    "ax.spines[\"left\"].set_bounds(ax.get_ylim()[0], ax.get_ylim()[-1])\n",
    "ax.spines[\"bottom\"].set_bounds(ax.get_xticks()[0], ax.get_xticks()[-1])\n",
    "\n",
    "plt.savefig(os.path.join('figures','cpd_snr.pdf'), format='pdf', bbox_inches='tight')\n",
    "\n",
    "plt.show()"
   ]
  }
 ],
 "metadata": {
  "kernelspec": {
   "display_name": "Python 3",
   "language": "python",
   "name": "python3"
  },
  "language_info": {
   "codemirror_mode": {
    "name": "ipython",
    "version": 3
   },
   "file_extension": ".py",
   "mimetype": "text/x-python",
   "name": "python",
   "nbconvert_exporter": "python",
   "pygments_lexer": "ipython3",
   "version": "3.11.10"
  }
 },
 "nbformat": 4,
 "nbformat_minor": 2
}
