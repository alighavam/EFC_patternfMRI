{
 "cells": [
  {
   "cell_type": "code",
   "execution_count": null,
   "metadata": {},
   "outputs": [],
   "source": [
    "from utils.config import *\n",
    "import pandas as pd\n",
    "import numpy as np\n",
    "from utils import dataset as ds\n",
    "from utils import emg_handler\n",
    "import os\n",
    "\n",
    "tmp = ds.movload(os.path.join(DATA_PATH, 'behavioural', 'efcp_100_01.mov'))"
   ]
  },
  {
   "cell_type": "code",
   "execution_count": 21,
   "metadata": {},
   "outputs": [
    {
     "name": "stderr",
     "output_type": "stream",
     "text": [
      "/var/folders/5y/1pn48fgn7yb77gc17h_5jms80000gp/T/ipykernel_23913/294276833.py:1: DtypeWarning: Columns (0,1,2,3,4,5,6,7,8,9,10,11,12,13,14,15,16,17,18,19,20,21,22,23,24,25,26,27,28,29,30,31) have mixed types. Specify dtype option on import or set low_memory=False.\n",
      "  file = pd.read_csv(os.path.join(DATA_PATH,'emg','subj100','Trial_1.csv'), header=None, delimiter=',', skiprows=5)\n"
     ]
    }
   ],
   "source": [
    "file = pd.read_csv(os.path.join(DATA_PATH,'emg','subj100','Trial_1.csv'), header=None, delimiter=',', skiprows=5) \n"
   ]
  },
  {
   "cell_type": "code",
   "execution_count": null,
   "metadata": {},
   "outputs": [
    {
     "name": "stdout",
     "output_type": "stream",
     "text": [
      "Analog 1 Time Series (s)\n",
      " Analog 1 (V)\n",
      " ext_D3 Time Series (s)\n",
      " ext_D3 (mV)\n",
      " ext_D4 Time Series (s)\n",
      " ext_D4 (mV)\n",
      " ext_D5 Time Series (s)\n",
      " ext_D5 (mV)\n",
      " ext_D1 Time Series (s)\n",
      " ext_D1 (mV)\n",
      " ext_D2 Time Series (s)\n",
      " ext_D2 (mV)\n",
      " flx_D3 Time Series (s)\n",
      " flx_D3 (mV)\n",
      " flx_D4 Time Series (s)\n",
      " flx_D4 (mV)\n",
      " flx_D2 Time Series (s)\n",
      " flx_D2 (mV)\n",
      " flx_D1 Time Series (s)\n",
      " flx_D1 (mV)\n",
      " flx_D5 Time Series (s)\n",
      " flx_D5 (mV)\n"
     ]
    }
   ],
   "source": [
    "col_names = ['Analog 1', 'ext_D3', 'ext_D4', 'ext_D5', 'ext_D1', 'ext_D2', 'flx_D3', 'flx_D4', 'flx_D2', 'flx_D1', 'flx_D5']\n",
    "channel_names = ['ext_D1', 'ext_D2', 'ext_D3', 'ext_D4', 'ext_D5', 'flx_D1', 'flx_D2', 'flx_D3', 'flx_D4', 'flx_D5']\n",
    "\n",
    "raw_emg = pd.DataFrame()\n",
    "\n",
    "# find the trial indices from the trigger channel:\n",
    "\n",
    "# for name in channel_names:\n",
    "#     for i, col_name in enumerate(x.iloc[0].values):\n",
    "#         if name in col_name:\n",
    "#             print(f'{x.iloc[0].values[i]}')"
   ]
  }
 ],
 "metadata": {
  "kernelspec": {
   "display_name": "Python 3",
   "language": "python",
   "name": "python3"
  },
  "language_info": {
   "codemirror_mode": {
    "name": "ipython",
    "version": 3
   },
   "file_extension": ".py",
   "mimetype": "text/x-python",
   "name": "python",
   "nbconvert_exporter": "python",
   "pygments_lexer": "ipython3",
   "version": "3.11.10"
  }
 },
 "nbformat": 4,
 "nbformat_minor": 2
}
